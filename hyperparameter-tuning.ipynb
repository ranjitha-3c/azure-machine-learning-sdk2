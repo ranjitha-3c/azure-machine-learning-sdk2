{
  "cells": [
    {
      "cell_type": "markdown",
      "source": [
        "# 1. Connect to Azure Machine Learning Workspace"
      ],
      "metadata": {}
    },
    {
      "cell_type": "code",
      "source": [
        "# import required libraries\n",
        "from azure.ai.ml import MLClient\n",
        "from azure.ai.ml import command, Input\n",
        "from azure.ai.ml.sweep import Choice, Uniform, MedianStoppingPolicy\n",
        "from azure.identity import DefaultAzureCredential"
      ],
      "outputs": [],
      "execution_count": 1,
      "metadata": {
        "gather": {
          "logged": 1677609287685
        }
      }
    },
    {
      "cell_type": "markdown",
      "source": [
        "## 1.2. Configure workspace details and get a handle to the workspace"
      ],
      "metadata": {}
    },
    {
      "cell_type": "code",
      "source": [
        "# import required libraries\n",
        "from azure.ai.ml import MLClient\n",
        "from azure.identity import DefaultAzureCredential\n",
        "credential = DefaultAzureCredential()\n",
        "# connect to the workspace\n",
        "ml_client = MLClient(\n",
        "    credential=credential,\n",
        "    subscription_id=\"efc5a0e2-7106-4a45-88f4-c9359bc36a6f\",\n",
        "    resource_group_name=\"eydatabook_rg\",\n",
        "    workspace_name=\"mlw-ranjitha-from-spyder\",\n",
        ")"
      ],
      "outputs": [],
      "execution_count": 2,
      "metadata": {
        "name": "connect-workspace",
        "gather": {
          "logged": 1677609308599
        }
      }
    },
    {
      "cell_type": "markdown",
      "source": [
        "# 2. Configure and run the Command\n",
        "\n",
        "## 2.1 Configure the Command"
      ],
      "metadata": {}
    },
    {
      "cell_type": "code",
      "source": [
        "from azure.ai.ml import command, Input\n",
        "\n",
        "# define the command\n",
        "command_job = command(\n",
        "    code=\"./src\",\n",
        "    command=\"python main.py --iris-csv ${{inputs.iris_csv}} --learning-rate ${{inputs.learning_rate}} --boosting ${{inputs.boosting}}\",\n",
        "    environment=\"AzureML-lightgbm-3.2-ubuntu18.04-py37-cpu@latest\",\n",
        "    inputs={\n",
        "        \"iris_csv\": Input(\n",
        "            type=\"uri_file\",\n",
        "            path=\"https://azuremlexamples.blob.core.windows.net/datasets/iris.csv\",\n",
        "        ),\n",
        "        \"learning_rate\": 0.9,\n",
        "        \"boosting\": \"gbdt\",\n",
        "    },\n",
        "    compute=\"ci-aml-ranjitha\",\n",
        ")"
      ],
      "outputs": [],
      "execution_count": 3,
      "metadata": {
        "name": "create-command",
        "gather": {
          "logged": 1677609312747
        }
      }
    },
    {
      "cell_type": "markdown",
      "source": [
        "## 2.2 Run the Command"
      ],
      "metadata": {}
    },
    {
      "cell_type": "code",
      "source": [
        "# submit the command\n",
        "returned_job = ml_client.jobs.create_or_update(command_job)\n",
        "# get a URL for the status of the job\n",
        "returned_job.studio_url"
      ],
      "outputs": [
        {
          "output_type": "stream",
          "name": "stderr",
          "text": "\r\u001b[32mUploading src (0.01 MBs):   0%|          | 0/6156 [00:00<?, ?it/s]\r\u001b[32mUploading src (0.01 MBs): 100%|██████████| 6156/6156 [00:00<00:00, 58643.87it/s]\r\u001b[32mUploading src (0.01 MBs): 100%|██████████| 6156/6156 [00:00<00:00, 57844.17it/s]\n\u001b[39m\n\n"
        },
        {
          "output_type": "execute_result",
          "execution_count": 4,
          "data": {
            "text/plain": "'https://ml.azure.com/runs/goofy_apricot_2v8sbb5w6y?wsid=/subscriptions/efc5a0e2-7106-4a45-88f4-c9359bc36a6f/resourcegroups/eydatabook_rg/workspaces/mlw-ranjitha-from-spyder&tid=7c55576f-e738-4097-8c71-053078eadf3f'"
          },
          "metadata": {}
        }
      ],
      "execution_count": 4,
      "metadata": {
        "name": "run-command",
        "gather": {
          "logged": 1677609324569
        }
      }
    },
    {
      "cell_type": "markdown",
      "source": [
        "# 3.  Run a sweep on this command\n",
        "\n",
        "## 3.1 Modify or define inputs to sweep"
      ],
      "metadata": {}
    },
    {
      "cell_type": "code",
      "source": [
        "command_job_for_sweep = command_job(\n",
        "    learning_rate=Uniform(min_value=0.01, max_value=0.9),\n",
        "    boosting=Choice(values=[\"gbdt\", \"dart\"]),\n",
        ")"
      ],
      "outputs": [],
      "execution_count": 5,
      "metadata": {
        "name": "search-space",
        "gather": {
          "logged": 1677609348859
        }
      }
    },
    {
      "cell_type": "markdown",
      "source": [
        "## 3.2 Define the sweep function "
      ],
      "metadata": {}
    },
    {
      "cell_type": "code",
      "source": [
        "# apply the sweep parameter to obtain the sweep_job\n",
        "sweep_job = command_job_for_sweep.sweep(\n",
        "    compute=\"cpu-cluster\",\n",
        "    sampling_algorithm=\"random\",\n",
        "    primary_metric=\"test-multi_logloss\",\n",
        "    goal=\"Minimize\",\n",
        ")\n",
        "\n",
        "# define the limits for this sweep\n",
        "sweep_job.set_limits(max_total_trials=20, max_concurrent_trials=10, timeout=7200)"
      ],
      "outputs": [],
      "execution_count": 6,
      "metadata": {
        "name": "configure-sweep",
        "gather": {
          "logged": 1677609361292
        }
      }
    },
    {
      "cell_type": "markdown",
      "source": [
        "## 3.3 Run the SweepJob"
      ],
      "metadata": {}
    },
    {
      "cell_type": "code",
      "source": [
        "# submit the sweep\n",
        "returned_sweep_job = ml_client.create_or_update(sweep_job)\n",
        "# get a URL for the status of the job\n",
        "returned_sweep_job.studio_url"
      ],
      "outputs": [
        {
          "output_type": "execute_result",
          "execution_count": 7,
          "data": {
            "text/plain": "'https://ml.azure.com/runs/bold_nutmeg_6ddctxw82k?wsid=/subscriptions/efc5a0e2-7106-4a45-88f4-c9359bc36a6f/resourcegroups/eydatabook_rg/workspaces/mlw-ranjitha-from-spyder&tid=7c55576f-e738-4097-8c71-053078eadf3f'"
          },
          "metadata": {}
        }
      ],
      "execution_count": 7,
      "metadata": {
        "name": "run-sweep",
        "gather": {
          "logged": 1677609423123
        }
      }
    },
    {
      "cell_type": "markdown",
      "source": [
        "## Find the best trial job"
      ],
      "metadata": {
        "nteract": {
          "transient": {
            "deleting": false
          }
        }
      }
    },
    {
      "cell_type": "code",
      "source": [
        "ml_client.jobs.download(returned_sweep_job.name, output_name=\"model\")"
      ],
      "outputs": [],
      "execution_count": null,
      "metadata": {
        "jupyter": {
          "source_hidden": false,
          "outputs_hidden": false
        },
        "nteract": {
          "transient": {
            "deleting": false
          }
        }
      }
    },
    {
      "cell_type": "markdown",
      "source": [],
      "metadata": {
        "nteract": {
          "transient": {
            "deleting": false
          }
        }
      }
    }
  ],
  "metadata": {
    "description": {
      "description": "Run **hyperparameter sweep** on a Command or CommandComponent"
    },
    "interpreter": {
      "hash": "66962d4c952b5ba37638a017d6cc83bab37d76f69b13c17d86b9f71233a0aa71"
    },
    "kernelspec": {
      "name": "python310-sdkv2",
      "language": "python",
      "display_name": "Python 3.10 - SDK v2"
    },
    "language_info": {
      "name": "python",
      "version": "3.10.9",
      "mimetype": "text/x-python",
      "codemirror_mode": {
        "name": "ipython",
        "version": 3
      },
      "pygments_lexer": "ipython3",
      "nbconvert_exporter": "python",
      "file_extension": ".py"
    },
    "microsoft": {
      "ms_spell_check": {
        "ms_spell_check_language": "en"
      },
      "host": {
        "AzureML": {
          "notebookHasBeenCompleted": true
        }
      }
    },
    "kernel_info": {
      "name": "python310-sdkv2"
    },
    "nteract": {
      "version": "nteract-front-end@1.0.0"
    }
  },
  "nbformat": 4,
  "nbformat_minor": 4
}